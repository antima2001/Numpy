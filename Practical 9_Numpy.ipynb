{
 "cells": [
  {
   "cell_type": "markdown",
   "id": "5ebbf85d",
   "metadata": {},
   "source": [
    "To define a new ndarray, the easiest way is to use the array()"
   ]
  },
  {
   "cell_type": "markdown",
   "id": "4e0b565b",
   "metadata": {},
   "source": [
    "Creating Arrays"
   ]
  },
  {
   "cell_type": "code",
   "execution_count": 94,
   "id": "bc21d318",
   "metadata": {},
   "outputs": [
    {
     "name": "stdout",
     "output_type": "stream",
     "text": [
      "[1 2 3]\n",
      "****************\n",
      "[[1.5 2.  3. ]\n",
      " [4.  5.  6. ]]\n",
      "*****************\n",
      "[[[1.5 2.  3. ]\n",
      "  [4.  5.  6. ]]\n",
      "\n",
      " [[3.  2.  1. ]\n",
      "  [4.  5.  6. ]]]\n"
     ]
    }
   ],
   "source": [
    "import numpy as np_antima\n",
    "\n",
    "a = np_antima.array([1,2,3])\n",
    "b = np_antima.array([(1.5,2,3), (4,5,6)], dtype = float)\n",
    "c = np_antima.array([[(1.5,2,3), (4,5,6)], [(3,2,1), (4,5,6)]], dtype = float)\n",
    "print(a)\n",
    "print(\"****************\")\n",
    "print(b)\n",
    "print(\"*****************\")\n",
    "print(c)\n"
   ]
  },
  {
   "cell_type": "code",
   "execution_count": 97,
   "id": "b56f342a",
   "metadata": {},
   "outputs": [
    {
     "data": {
      "text/plain": [
       "1"
      ]
     },
     "execution_count": 97,
     "metadata": {},
     "output_type": "execute_result"
    }
   ],
   "source": [
    "a_antima.ndim"
   ]
  },
  {
   "cell_type": "code",
   "execution_count": 98,
   "id": "27034a12",
   "metadata": {},
   "outputs": [
    {
     "data": {
      "text/plain": [
       "(2, 3)"
      ]
     },
     "execution_count": 98,
     "metadata": {},
     "output_type": "execute_result"
    }
   ],
   "source": [
    "b_antima.shape"
   ]
  },
  {
   "cell_type": "code",
   "execution_count": 99,
   "id": "9470b246",
   "metadata": {},
   "outputs": [
    {
     "data": {
      "text/plain": [
       "12"
      ]
     },
     "execution_count": 99,
     "metadata": {},
     "output_type": "execute_result"
    }
   ],
   "source": [
    "c_antima.size"
   ]
  },
  {
   "cell_type": "code",
   "execution_count": 100,
   "id": "dd344e8b",
   "metadata": {},
   "outputs": [
    {
     "data": {
      "text/plain": [
       "dtype('float64')"
      ]
     },
     "execution_count": 100,
     "metadata": {},
     "output_type": "execute_result"
    }
   ],
   "source": [
    "c_antima.dtype"
   ]
  },
  {
   "cell_type": "markdown",
   "id": "de1d4089",
   "metadata": {},
   "source": [
    "Initial Placeholders"
   ]
  },
  {
   "cell_type": "code",
   "execution_count": 103,
   "id": "51f8a675",
   "metadata": {},
   "outputs": [
    {
     "data": {
      "text/plain": [
       "array([0.  , 0.25, 0.5 , 0.75, 1.  , 1.25, 1.5 , 1.75, 2.  ])"
      ]
     },
     "execution_count": 103,
     "metadata": {},
     "output_type": "execute_result"
    }
   ],
   "source": [
    "np_antima.zeros((3,4))                     #Create an array of zeros\n",
    "\n",
    "np_antima.ones((2,3,4),dtype=np.int16)     #Create an array of ones\n",
    "\n",
    "d = np_antima.arange(10,25,5)              #Create an array of evenly spaces values\n",
    "\n",
    "np_antima.linspace(0,2,9)                  #Create an array of evenly spaced values"
   ]
  },
  {
   "cell_type": "code",
   "execution_count": 106,
   "id": "ec3534cb",
   "metadata": {},
   "outputs": [
    {
     "data": {
      "text/plain": [
       "array([[1.39069238e-309, 1.39069238e-309],\n",
       "       [1.39069238e-309, 1.39069238e-309],\n",
       "       [1.39069238e-309, 1.39069238e-309]])"
      ]
     },
     "execution_count": 106,
     "metadata": {},
     "output_type": "execute_result"
    }
   ],
   "source": [
    "e = np_antima.full((2,2),7)          #Create a constant array\n",
    "\n",
    "f = np_antima.eye(2)                #Create a 2x2 identity matrix\n",
    "\n",
    "np_antima.random.random((2,2))      #Create an array with random values\n",
    "\n",
    "np_antima.empty((3,2))              #Create an empty array"
   ]
  },
  {
   "cell_type": "code",
   "execution_count": 110,
   "id": "b4b70f00",
   "metadata": {},
   "outputs": [
    {
     "data": {
      "text/plain": [
       "array([['a', 'b'],\n",
       "       ['c', 'd']], dtype='<U1')"
      ]
     },
     "execution_count": 110,
     "metadata": {},
     "output_type": "execute_result"
    }
   ],
   "source": [
    "#Type of Data\n",
    "\n",
    "g_antima = np.array([['a','b'],['c','d']])\n",
    "g_antima"
   ]
  },
  {
   "cell_type": "code",
   "execution_count": 111,
   "id": "1548d1c8",
   "metadata": {},
   "outputs": [
    {
     "data": {
      "text/plain": [
       "dtype('<U1')"
      ]
     },
     "execution_count": 111,
     "metadata": {},
     "output_type": "execute_result"
    }
   ],
   "source": [
    "g_antima.dtype"
   ]
  },
  {
   "cell_type": "code",
   "execution_count": 112,
   "id": "29383e78",
   "metadata": {},
   "outputs": [
    {
     "data": {
      "text/plain": [
       "'str32'"
      ]
     },
     "execution_count": 112,
     "metadata": {},
     "output_type": "execute_result"
    }
   ],
   "source": [
    "g_antima.dtype.name"
   ]
  },
  {
   "cell_type": "code",
   "execution_count": 113,
   "id": "086f47d8",
   "metadata": {},
   "outputs": [
    {
     "data": {
      "text/plain": [
       "array([[1.+0.j, 2.+0.j, 3.+0.j],\n",
       "       [4.+0.j, 5.+0.j, 6.+0.j]])"
      ]
     },
     "execution_count": 113,
     "metadata": {},
     "output_type": "execute_result"
    }
   ],
   "source": [
    "f_antima = np.array([[1, 2, 3],[4, 5, 6]], dtype=complex)\n",
    "f_antima"
   ]
  },
  {
   "cell_type": "code",
   "execution_count": 114,
   "id": "3abd7d36",
   "metadata": {},
   "outputs": [
    {
     "data": {
      "text/plain": [
       "array([[0., 0., 0.],\n",
       "       [0., 0., 0.],\n",
       "       [0., 0., 0.]])"
      ]
     },
     "execution_count": 114,
     "metadata": {},
     "output_type": "execute_result"
    }
   ],
   "source": [
    "#Intrinsic Creation of an Array\n",
    "\n",
    "np_antima.zeros((3,3))\n"
   ]
  },
  {
   "cell_type": "code",
   "execution_count": 115,
   "id": "60e68a89",
   "metadata": {},
   "outputs": [
    {
     "data": {
      "text/plain": [
       "array([[1., 1., 1.],\n",
       "       [1., 1., 1.],\n",
       "       [1., 1., 1.]])"
      ]
     },
     "execution_count": 115,
     "metadata": {},
     "output_type": "execute_result"
    }
   ],
   "source": [
    "np_antima.ones((3,3))"
   ]
  },
  {
   "cell_type": "code",
   "execution_count": 116,
   "id": "2e5ddb1f",
   "metadata": {},
   "outputs": [
    {
     "data": {
      "text/plain": [
       "array([0, 1, 2, 3, 4, 5, 6, 7, 8, 9])"
      ]
     },
     "execution_count": 116,
     "metadata": {},
     "output_type": "execute_result"
    }
   ],
   "source": [
    "# A feature that will be particularly useful is arange().\n",
    "# This function generates Numpy arrays with numerical sequence that respond to particular rules depending on the passes arguments.\n",
    "\n",
    "np_antima.arange(0, 10)\n"
   ]
  },
  {
   "cell_type": "code",
   "execution_count": 117,
   "id": "3fced91b",
   "metadata": {},
   "outputs": [
    {
     "data": {
      "text/plain": [
       "array([4, 5, 6, 7, 8, 9])"
      ]
     },
     "execution_count": 117,
     "metadata": {},
     "output_type": "execute_result"
    }
   ],
   "source": [
    "np_antima.arange(4, 10)"
   ]
  },
  {
   "cell_type": "markdown",
   "id": "28b12b9e",
   "metadata": {},
   "source": [
    "It is also possible to generate a sequence of values with precise intervals between them. If the third argument of the arange() function is specified, this will represent the gap between a value and the next one in the sequence of values."
   ]
  },
  {
   "cell_type": "code",
   "execution_count": 33,
   "id": "16f2e27f",
   "metadata": {},
   "outputs": [
    {
     "data": {
      "text/plain": [
       "array([0, 3, 6, 9])"
      ]
     },
     "execution_count": 33,
     "metadata": {},
     "output_type": "execute_result"
    }
   ],
   "source": [
    "np_antima.arange(0, 12, 3)"
   ]
  },
  {
   "cell_type": "code",
   "execution_count": 34,
   "id": "b4c45f59",
   "metadata": {},
   "outputs": [
    {
     "data": {
      "text/plain": [
       "array([0. , 0.6, 1.2, 1.8, 2.4, 3. , 3.6, 4.2, 4.8, 5.4])"
      ]
     },
     "execution_count": 34,
     "metadata": {},
     "output_type": "execute_result"
    }
   ],
   "source": [
    "np_antima.arange(0, 6, 0.6)"
   ]
  },
  {
   "cell_type": "markdown",
   "id": "c0f0d032",
   "metadata": {},
   "source": [
    "So far you have only created one-dimensional arrays.\n",
    "\n",
    "To generate two-dimensional arrays you can still continue to use the arange() function but combined with the reshape() function.\n",
    "\n",
    "This function divides a linear array in different parts in the manner specified by the shape argument.\n",
    "\n",
    "Another method to obtain arrays already containing values is to fill them with random values. This is possible using the random() function of the numpy.random module. This function will generate an array with many elements as specified in the argument."
   ]
  },
  {
   "cell_type": "code",
   "execution_count": 118,
   "id": "2adaf0a2",
   "metadata": {},
   "outputs": [
    {
     "data": {
      "text/plain": [
       "array([0.15677471, 0.33179283, 0.18102804])"
      ]
     },
     "execution_count": 118,
     "metadata": {},
     "output_type": "execute_result"
    }
   ],
   "source": [
    "np_antima.random.random(3)"
   ]
  },
  {
   "cell_type": "code",
   "execution_count": 36,
   "id": "c9ac5641",
   "metadata": {},
   "outputs": [
    {
     "data": {
      "text/plain": [
       "array([[0.1059483 , 0.89325777, 0.77823622],\n",
       "       [0.45794668, 0.65406177, 0.76537859],\n",
       "       [0.29158086, 0.75693619, 0.88863687]])"
      ]
     },
     "execution_count": 36,
     "metadata": {},
     "output_type": "execute_result"
    }
   ],
   "source": [
    "np_antima.random.random((3,3))"
   ]
  },
  {
   "cell_type": "markdown",
   "id": "29aa3d6c",
   "metadata": {},
   "source": [
    "Basic Operations"
   ]
  },
  {
   "cell_type": "code",
   "execution_count": 119,
   "id": "a01667ba",
   "metadata": {},
   "outputs": [
    {
     "data": {
      "text/plain": [
       "array([0, 1, 2, 3])"
      ]
     },
     "execution_count": 119,
     "metadata": {},
     "output_type": "execute_result"
    }
   ],
   "source": [
    "a_antima = np.arange(4)\n",
    "a_antima"
   ]
  },
  {
   "cell_type": "code",
   "execution_count": 38,
   "id": "966344b7",
   "metadata": {},
   "outputs": [
    {
     "data": {
      "text/plain": [
       "array([4, 5, 6, 7])"
      ]
     },
     "execution_count": 38,
     "metadata": {},
     "output_type": "execute_result"
    }
   ],
   "source": [
    "a+4"
   ]
  },
  {
   "cell_type": "code",
   "execution_count": 39,
   "id": "c7e2ed8e",
   "metadata": {},
   "outputs": [
    {
     "data": {
      "text/plain": [
       "array([0, 2, 4, 6])"
      ]
     },
     "execution_count": 39,
     "metadata": {},
     "output_type": "execute_result"
    }
   ],
   "source": [
    "a*2"
   ]
  },
  {
   "cell_type": "code",
   "execution_count": 120,
   "id": "14dddd03",
   "metadata": {},
   "outputs": [
    {
     "data": {
      "text/plain": [
       "array([4, 5, 6, 7])"
      ]
     },
     "execution_count": 120,
     "metadata": {},
     "output_type": "execute_result"
    }
   ],
   "source": [
    "b_antima = np.arange(4,8)\n",
    "b_antima"
   ]
  },
  {
   "cell_type": "code",
   "execution_count": 121,
   "id": "b9fdb564",
   "metadata": {},
   "outputs": [
    {
     "name": "stdout",
     "output_type": "stream",
     "text": [
      "[[2.5 4.  6. ]\n",
      " [5.  7.  9. ]]\n",
      "***********\n",
      "[[-0.5  0.   0. ]\n",
      " [-3.  -3.  -3. ]]\n",
      "*************\n",
      "[[ 1.5  4.   9. ]\n",
      " [ 4.  10.  18. ]]\n",
      "**********************\n",
      "[[ 0.99749499  1.81859485  0.42336002]\n",
      " [-0.7568025  -1.91784855 -0.83824649]]\n",
      "*************************\n",
      "[[1.22474487 2.82842712 5.19615242]\n",
      " [2.         4.47213595 7.34846923]]\n"
     ]
    }
   ],
   "source": [
    "print(a+b)\n",
    "print(\"***********\")\n",
    "print(a-b)\n",
    "print(\"*************\")\n",
    "print(a*b)\n",
    "print(\"**********************\")\n",
    "print(a * np_antima.sin(b))\n",
    "print(\"*************************\")\n",
    "print(a * np_antima.sqrt(b))"
   ]
  },
  {
   "cell_type": "code",
   "execution_count": 122,
   "id": "b1a28432",
   "metadata": {},
   "outputs": [
    {
     "name": "stdout",
     "output_type": "stream",
     "text": [
      "[[0 1 2]\n",
      " [3 4 5]\n",
      " [6 7 8]]\n",
      "*******************\n",
      "[[1. 1. 1.]\n",
      " [1. 1. 1.]\n",
      " [1. 1. 1.]]\n",
      "*******************\n",
      "[[0. 1. 2.]\n",
      " [3. 4. 5.]\n",
      " [6. 7. 8.]]\n"
     ]
    }
   ],
   "source": [
    "# Moving on to the multidimensional case, even here the arithmetic operators continue to operate element-wise.\n",
    "A_antima = np.arange(0, 9).reshape(3, 3)\n",
    "print(A_antima)\n",
    "print(\"*******************\")\n",
    "B_antima = np.ones((3, 3))\n",
    "print(B_antima)\n",
    "print(\"*******************\")\n",
    "print(A_antima * B_antima)"
   ]
  },
  {
   "cell_type": "code",
   "execution_count": 123,
   "id": "6eea853e",
   "metadata": {},
   "outputs": [
    {
     "data": {
      "text/plain": [
       "array([[33., 33., 33.],\n",
       "       [42., 42., 42.],\n",
       "       [51., 51., 51.]])"
      ]
     },
     "execution_count": 123,
     "metadata": {},
     "output_type": "execute_result"
    }
   ],
   "source": [
    "#The Matrix Product\n",
    "\n",
    "np_antima.dot(A,B)"
   ]
  },
  {
   "cell_type": "code",
   "execution_count": 124,
   "id": "f5ba10f0",
   "metadata": {},
   "outputs": [
    {
     "data": {
      "text/plain": [
       "array([[ 3.,  3.,  3.],\n",
       "       [12., 12., 12.],\n",
       "       [21., 21., 21.]])"
      ]
     },
     "execution_count": 124,
     "metadata": {},
     "output_type": "execute_result"
    }
   ],
   "source": [
    "A_antima.dot(B)"
   ]
  },
  {
   "cell_type": "code",
   "execution_count": 125,
   "id": "9d6a2b7b",
   "metadata": {},
   "outputs": [
    {
     "data": {
      "text/plain": [
       "array([[39., 42., 45.],\n",
       "       [39., 42., 45.],\n",
       "       [39., 42., 45.]])"
      ]
     },
     "execution_count": 125,
     "metadata": {},
     "output_type": "execute_result"
    }
   ],
   "source": [
    "np_antima.dot(B,A)"
   ]
  },
  {
   "cell_type": "code",
   "execution_count": 126,
   "id": "3690f351",
   "metadata": {},
   "outputs": [
    {
     "data": {
      "text/plain": [
       "array([0, 1, 2, 3])"
      ]
     },
     "execution_count": 126,
     "metadata": {},
     "output_type": "execute_result"
    }
   ],
   "source": [
    "# Increment and Decrement Operators\n",
    "\n",
    "a_antima = np.arange(4)\n",
    "\n",
    "a_antima"
   ]
  },
  {
   "cell_type": "code",
   "execution_count": 127,
   "id": "7f3c2a1a",
   "metadata": {},
   "outputs": [
    {
     "data": {
      "text/plain": [
       "array([1, 2, 3, 4])"
      ]
     },
     "execution_count": 127,
     "metadata": {},
     "output_type": "execute_result"
    }
   ],
   "source": [
    "a_antima += 1\n",
    "a_antima"
   ]
  },
  {
   "cell_type": "code",
   "execution_count": 128,
   "id": "90b57dbc",
   "metadata": {},
   "outputs": [
    {
     "data": {
      "text/plain": [
       "array([0, 1, 2, 3])"
      ]
     },
     "execution_count": 128,
     "metadata": {},
     "output_type": "execute_result"
    }
   ],
   "source": [
    "a_antima -=1\n",
    "a_antima"
   ]
  },
  {
   "cell_type": "code",
   "execution_count": 150,
   "id": "9c9ac3c3",
   "metadata": {},
   "outputs": [
    {
     "data": {
      "text/plain": [
       "array([14, 15, 16, 17, 18, 19])"
      ]
     },
     "execution_count": 150,
     "metadata": {},
     "output_type": "execute_result"
    }
   ],
   "source": [
    "a_antima += 4\n",
    "a_antima"
   ]
  },
  {
   "cell_type": "code",
   "execution_count": 151,
   "id": "4089c205",
   "metadata": {},
   "outputs": [
    {
     "data": {
      "text/plain": [
       "array([28, 30, 32, 34, 36, 38])"
      ]
     },
     "execution_count": 151,
     "metadata": {},
     "output_type": "execute_result"
    }
   ],
   "source": [
    "a_antima *= 2\n",
    "a_antima"
   ]
  },
  {
   "cell_type": "markdown",
   "id": "d7550d84",
   "metadata": {},
   "source": [
    "Universal Functions(ufunc)\n",
    "A universal function, generally called ufunc, is a function operating of an array in an element-by-element fashion.\n",
    "\n",
    "This means that it is a function that acts individually on each single element of the input array to generate a corresponding result in a new output array.\n",
    "\n",
    "At the end, you will obtain an array of the same size of the input.\n",
    "\n",
    "There are many mathematical and trigonometric operations that meet this definition,\n",
    "\n",
    "for example, the calculation of\n",
    "\n",
    "the square root with sqrt(),\n",
    "\n",
    "the logarithm with log(),\n",
    "\n",
    "or the sin with sin()."
   ]
  },
  {
   "cell_type": "code",
   "execution_count": 62,
   "id": "d79f70ca",
   "metadata": {},
   "outputs": [
    {
     "data": {
      "text/plain": [
       "array([1, 2, 3, 4])"
      ]
     },
     "execution_count": 62,
     "metadata": {},
     "output_type": "execute_result"
    }
   ],
   "source": [
    "a_antima = np.arange(1, 5)\n",
    "a_antima"
   ]
  },
  {
   "cell_type": "code",
   "execution_count": 129,
   "id": "2c691e87",
   "metadata": {},
   "outputs": [
    {
     "data": {
      "text/plain": [
       "array([1.        , 1.41421356, 1.73205081])"
      ]
     },
     "execution_count": 129,
     "metadata": {},
     "output_type": "execute_result"
    }
   ],
   "source": [
    "np_antima.sqrt(a)"
   ]
  },
  {
   "cell_type": "code",
   "execution_count": 130,
   "id": "1ea31189",
   "metadata": {},
   "outputs": [
    {
     "data": {
      "text/plain": [
       "array([0.        , 0.69314718, 1.09861229])"
      ]
     },
     "execution_count": 130,
     "metadata": {},
     "output_type": "execute_result"
    }
   ],
   "source": [
    "np_antima.log(a)"
   ]
  },
  {
   "cell_type": "code",
   "execution_count": 131,
   "id": "8d99ac08",
   "metadata": {},
   "outputs": [
    {
     "data": {
      "text/plain": [
       "array([0.84147098, 0.90929743, 0.14112001])"
      ]
     },
     "execution_count": 131,
     "metadata": {},
     "output_type": "execute_result"
    }
   ],
   "source": [
    "np_antima.sin(a)"
   ]
  },
  {
   "cell_type": "markdown",
   "id": "39c5f433",
   "metadata": {},
   "source": [
    "Aggregate Functions"
   ]
  },
  {
   "cell_type": "markdown",
   "id": "36c69e29",
   "metadata": {},
   "source": [
    "Aggregate functions are those functions that perform an operation on a set of values, an array for example, and produce a single result.\n",
    "\n",
    "Therefore, the sum of all the elements in an array is an aggregate function.\n",
    "\n",
    "Many functions of this kind are implemented within the class ndarray."
   ]
  },
  {
   "cell_type": "code",
   "execution_count": 132,
   "id": "0022e3e9",
   "metadata": {},
   "outputs": [
    {
     "data": {
      "text/plain": [
       "array([3.3, 4.5, 1.2, 5.7, 0.3])"
      ]
     },
     "execution_count": 132,
     "metadata": {},
     "output_type": "execute_result"
    }
   ],
   "source": [
    "a_antima = np.array([3.3, 4.5, 1.2, 5.7, 0.3])\n",
    "a_antima"
   ]
  },
  {
   "cell_type": "code",
   "execution_count": 67,
   "id": "cb6890df",
   "metadata": {},
   "outputs": [
    {
     "data": {
      "text/plain": [
       "15.0"
      ]
     },
     "execution_count": 67,
     "metadata": {},
     "output_type": "execute_result"
    }
   ],
   "source": [
    "a_antima.sum()"
   ]
  },
  {
   "cell_type": "code",
   "execution_count": 68,
   "id": "3179075f",
   "metadata": {},
   "outputs": [
    {
     "data": {
      "text/plain": [
       "0.3"
      ]
     },
     "execution_count": 68,
     "metadata": {},
     "output_type": "execute_result"
    }
   ],
   "source": [
    "a_antima.min()"
   ]
  },
  {
   "cell_type": "code",
   "execution_count": 69,
   "id": "797250a8",
   "metadata": {},
   "outputs": [
    {
     "data": {
      "text/plain": [
       "5.7"
      ]
     },
     "execution_count": 69,
     "metadata": {},
     "output_type": "execute_result"
    }
   ],
   "source": [
    "a_antima.max()"
   ]
  },
  {
   "cell_type": "code",
   "execution_count": 70,
   "id": "87adc1ce",
   "metadata": {},
   "outputs": [
    {
     "data": {
      "text/plain": [
       "3.0"
      ]
     },
     "execution_count": 70,
     "metadata": {},
     "output_type": "execute_result"
    }
   ],
   "source": [
    "a_antima.mean()"
   ]
  },
  {
   "cell_type": "code",
   "execution_count": 71,
   "id": "b94e78f2",
   "metadata": {},
   "outputs": [
    {
     "data": {
      "text/plain": [
       "2.0079840636817816"
      ]
     },
     "execution_count": 71,
     "metadata": {},
     "output_type": "execute_result"
    }
   ],
   "source": [
    "a_antima.std()"
   ]
  },
  {
   "cell_type": "markdown",
   "id": "7485012b",
   "metadata": {},
   "source": [
    "Indexing, Slicing and Iterating"
   ]
  },
  {
   "cell_type": "code",
   "execution_count": null,
   "id": "591453c6",
   "metadata": {},
   "outputs": [],
   "source": [
    "Indexing\n",
    "\n",
    "Array indexing always refers to the use of square brackets (‘[ ]’) to index the elements of the array so that it can then be referred individually for various uses such as extracting a value, selecting items, or even assigning a new value."
   ]
  },
  {
   "cell_type": "code",
   "execution_count": 135,
   "id": "206fac42",
   "metadata": {},
   "outputs": [
    {
     "data": {
      "text/plain": [
       "array([10, 11, 12, 13, 14, 15])"
      ]
     },
     "execution_count": 135,
     "metadata": {},
     "output_type": "execute_result"
    }
   ],
   "source": [
    "a = np.arange(10, 16)\n",
    "a"
   ]
  },
  {
   "cell_type": "code",
   "execution_count": 136,
   "id": "2f0a04b6",
   "metadata": {},
   "outputs": [
    {
     "data": {
      "text/plain": [
       "14"
      ]
     },
     "execution_count": 136,
     "metadata": {},
     "output_type": "execute_result"
    }
   ],
   "source": [
    "a[4]"
   ]
  },
  {
   "cell_type": "code",
   "execution_count": 75,
   "id": "7bfb65f1",
   "metadata": {},
   "outputs": [
    {
     "data": {
      "text/plain": [
       "15"
      ]
     },
     "execution_count": 75,
     "metadata": {},
     "output_type": "execute_result"
    }
   ],
   "source": [
    "a[-1]"
   ]
  },
  {
   "cell_type": "code",
   "execution_count": 76,
   "id": "09586417",
   "metadata": {},
   "outputs": [
    {
     "data": {
      "text/plain": [
       "10"
      ]
     },
     "execution_count": 76,
     "metadata": {},
     "output_type": "execute_result"
    }
   ],
   "source": [
    "a[-6]"
   ]
  },
  {
   "cell_type": "code",
   "execution_count": 77,
   "id": "01a0020d",
   "metadata": {},
   "outputs": [
    {
     "data": {
      "text/plain": [
       "array([11, 13, 14])"
      ]
     },
     "execution_count": 77,
     "metadata": {},
     "output_type": "execute_result"
    }
   ],
   "source": [
    "# To select multiple items at once, you can pass array of indexes within the square brackets.\n",
    "\n",
    "a[[1, 3, 4]]"
   ]
  },
  {
   "cell_type": "code",
   "execution_count": 137,
   "id": "1869b25c",
   "metadata": {},
   "outputs": [
    {
     "data": {
      "text/plain": [
       "array([[10, 11, 12],\n",
       "       [13, 14, 15],\n",
       "       [16, 17, 18]])"
      ]
     },
     "execution_count": 137,
     "metadata": {},
     "output_type": "execute_result"
    }
   ],
   "source": [
    "#Moving on to the two-dimensional case\n",
    "\n",
    "#The values are two [row index, column index] \n",
    "\n",
    "A_antima = np.arange(10, 19).reshape((3, 3))\n",
    "A_antima"
   ]
  },
  {
   "cell_type": "code",
   "execution_count": 152,
   "id": "24d83a39",
   "metadata": {},
   "outputs": [
    {
     "data": {
      "text/plain": [
       "15"
      ]
     },
     "execution_count": 152,
     "metadata": {},
     "output_type": "execute_result"
    }
   ],
   "source": [
    "A_antima[1, 2]"
   ]
  },
  {
   "cell_type": "markdown",
   "id": "4a2e26db",
   "metadata": {},
   "source": [
    "Slicing\n",
    "Slicing is the operation which allows you to extract portions of an array to generate new ones.\n",
    "\n",
    "Whereas using the Python lists the arrays obtained by slicing are copies, in NumPy, arrays are views onto the same underlying buffer.\n",
    "\n",
    "Depending on the portion of the array that you want to extract (or view) you must make use of the slice syntax; that is, you will use a sequence of numbers separated by colons (‘:’) within the square brackets."
   ]
  },
  {
   "cell_type": "code",
   "execution_count": 153,
   "id": "d27edab0",
   "metadata": {},
   "outputs": [
    {
     "data": {
      "text/plain": [
       "array([28, 30, 32, 34, 36, 38])"
      ]
     },
     "execution_count": 153,
     "metadata": {},
     "output_type": "execute_result"
    }
   ],
   "source": [
    "aIantima = np.arange(10, 16)\n",
    "a_antima"
   ]
  },
  {
   "cell_type": "code",
   "execution_count": 81,
   "id": "a7ebcd4d",
   "metadata": {},
   "outputs": [
    {
     "data": {
      "text/plain": [
       "array([11, 12, 13, 14])"
      ]
     },
     "execution_count": 81,
     "metadata": {},
     "output_type": "execute_result"
    }
   ],
   "source": [
    "a[1:5]"
   ]
  },
  {
   "cell_type": "markdown",
   "id": "afdcfbb0",
   "metadata": {},
   "source": [
    "Now if you want to extract from the previous portion an item, skip a specific number of following items, then extract the next, and skip again ..., you can use a third number that defines the gap in the sequence of the elements between one element and the next one to take"
   ]
  },
  {
   "cell_type": "code",
   "execution_count": 139,
   "id": "89b5875f",
   "metadata": {},
   "outputs": [
    {
     "data": {
      "text/plain": [
       "array([11, 13])"
      ]
     },
     "execution_count": 139,
     "metadata": {},
     "output_type": "execute_result"
    }
   ],
   "source": [
    "a_antima[1:5:2]"
   ]
  },
  {
   "cell_type": "code",
   "execution_count": 140,
   "id": "01f6b4d5",
   "metadata": {},
   "outputs": [
    {
     "data": {
      "text/plain": [
       "array([10, 12, 14])"
      ]
     },
     "execution_count": 140,
     "metadata": {},
     "output_type": "execute_result"
    }
   ],
   "source": [
    "a_antima[::2]"
   ]
  },
  {
   "cell_type": "code",
   "execution_count": 141,
   "id": "d9efc459",
   "metadata": {},
   "outputs": [
    {
     "data": {
      "text/plain": [
       "array([10, 12, 14])"
      ]
     },
     "execution_count": 141,
     "metadata": {},
     "output_type": "execute_result"
    }
   ],
   "source": [
    "a_antima[:5:2]"
   ]
  },
  {
   "cell_type": "code",
   "execution_count": 142,
   "id": "8b8fac2e",
   "metadata": {},
   "outputs": [
    {
     "data": {
      "text/plain": [
       "array([10, 11, 12, 13, 14])"
      ]
     },
     "execution_count": 142,
     "metadata": {},
     "output_type": "execute_result"
    }
   ],
   "source": [
    "a_antima[:5:]"
   ]
  },
  {
   "cell_type": "markdown",
   "id": "e48c16a3",
   "metadata": {},
   "source": [
    "As regards the case of two-dimensional array, the slicing syntax still applies, but it is separately defined both for the rows and for the columns."
   ]
  },
  {
   "cell_type": "code",
   "execution_count": 143,
   "id": "2cb7fa34",
   "metadata": {},
   "outputs": [
    {
     "data": {
      "text/plain": [
       "array([[10, 11, 12],\n",
       "       [13, 14, 15],\n",
       "       [16, 17, 18]])"
      ]
     },
     "execution_count": 143,
     "metadata": {},
     "output_type": "execute_result"
    }
   ],
   "source": [
    "A_antima = np.arange(10, 19).reshape((3, 3))\n",
    "A_antima"
   ]
  },
  {
   "cell_type": "code",
   "execution_count": 144,
   "id": "6ad1aa70",
   "metadata": {},
   "outputs": [
    {
     "data": {
      "text/plain": [
       "array([10, 11, 12])"
      ]
     },
     "execution_count": 144,
     "metadata": {},
     "output_type": "execute_result"
    }
   ],
   "source": [
    "A_antima[0,:]"
   ]
  },
  {
   "cell_type": "code",
   "execution_count": 145,
   "id": "f0a04810",
   "metadata": {},
   "outputs": [
    {
     "data": {
      "text/plain": [
       "array([10, 13, 16])"
      ]
     },
     "execution_count": 145,
     "metadata": {},
     "output_type": "execute_result"
    }
   ],
   "source": [
    "A_antima[:,0]"
   ]
  },
  {
   "cell_type": "code",
   "execution_count": 146,
   "id": "9b41d8ca",
   "metadata": {},
   "outputs": [
    {
     "data": {
      "text/plain": [
       "array([[10, 11],\n",
       "       [13, 14]])"
      ]
     },
     "execution_count": 146,
     "metadata": {},
     "output_type": "execute_result"
    }
   ],
   "source": [
    "A_antima[0:2,0:2]"
   ]
  },
  {
   "cell_type": "code",
   "execution_count": 147,
   "id": "853d0bad",
   "metadata": {},
   "outputs": [
    {
     "data": {
      "text/plain": [
       "array([[10, 11],\n",
       "       [16, 17]])"
      ]
     },
     "execution_count": 147,
     "metadata": {},
     "output_type": "execute_result"
    }
   ],
   "source": [
    "A_antima[[0,2],0:2]"
   ]
  },
  {
   "cell_type": "code",
   "execution_count": 91,
   "id": "05c0de52",
   "metadata": {},
   "outputs": [
    {
     "name": "stdout",
     "output_type": "stream",
     "text": [
      "10\n",
      "11\n",
      "12\n",
      "13\n",
      "14\n",
      "15\n"
     ]
    }
   ],
   "source": [
    "#Iterating an Array\n",
    "\n",
    "for i in a:\n",
    "  print(i)"
   ]
  },
  {
   "cell_type": "code",
   "execution_count": 148,
   "id": "bed72700",
   "metadata": {},
   "outputs": [
    {
     "name": "stdout",
     "output_type": "stream",
     "text": [
      "[10 11 12]\n",
      "[13 14 15]\n",
      "[16 17 18]\n"
     ]
    }
   ],
   "source": [
    "for row in A_antima:\n",
    "    print(row)"
   ]
  },
  {
   "cell_type": "code",
   "execution_count": 149,
   "id": "2e3867aa",
   "metadata": {},
   "outputs": [
    {
     "name": "stdout",
     "output_type": "stream",
     "text": [
      "10\n",
      "11\n",
      "12\n",
      "13\n",
      "14\n",
      "15\n",
      "16\n",
      "17\n",
      "18\n"
     ]
    }
   ],
   "source": [
    "for item in A_antima.flat:\n",
    "    print(item)"
   ]
  },
  {
   "cell_type": "code",
   "execution_count": null,
   "id": "288e26ce",
   "metadata": {},
   "outputs": [],
   "source": []
  }
 ],
 "metadata": {
  "kernelspec": {
   "display_name": "Python 3 (ipykernel)",
   "language": "python",
   "name": "python3"
  },
  "language_info": {
   "codemirror_mode": {
    "name": "ipython",
    "version": 3
   },
   "file_extension": ".py",
   "mimetype": "text/x-python",
   "name": "python",
   "nbconvert_exporter": "python",
   "pygments_lexer": "ipython3",
   "version": "3.9.12"
  }
 },
 "nbformat": 4,
 "nbformat_minor": 5
}
